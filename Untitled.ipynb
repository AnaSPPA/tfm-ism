{
 "cells": [
  {
   "cell_type": "code",
   "execution_count": 1,
   "id": "b89af2c0-6c0d-4581-a4b1-ad51be6acc1f",
   "metadata": {},
   "outputs": [
    {
     "name": "stdout",
     "output_type": "stream",
     "text": [
      "Hello\n"
     ]
    }
   ],
   "source": [
    "print('Hello')"
   ]
  },
  {
   "cell_type": "code",
   "execution_count": 1,
   "id": "411c22a8-94d1-44f3-b3d4-cc7f5449d5e7",
   "metadata": {},
   "outputs": [
    {
     "name": "stdout",
     "output_type": "stream",
     "text": [
      "Collecting pyodbc\n",
      "  Downloading pyodbc-4.0.39-cp39-cp39-win_amd64.whl (69 kB)\n",
      "Installing collected packages: pyodbc\n",
      "Successfully installed pyodbc-4.0.39\n"
     ]
    },
    {
     "name": "stderr",
     "output_type": "stream",
     "text": [
      "WARNING: You are using pip version 20.2.3; however, version 23.2.1 is available.\n",
      "You should consider upgrading via the 'c:\\users\\asi\\documents\\ism\\fastapi-venv\\scripts\\python.exe -m pip install --upgrade pip' command.\n"
     ]
    }
   ],
   "source": [
    "!pip install pyodbc"
   ]
  },
  {
   "cell_type": "code",
   "execution_count": 5,
   "id": "76e58950-87a3-4aeb-a84b-f7b37e7517b7",
   "metadata": {},
   "outputs": [],
   "source": [
    "import pyodbc\n",
    "\n",
    "# Definir parámetros de conexión\n",
    "server = \"192.168.7.128\"  # e.g., \"localhost\" or \"your_server_name\\instance_name\"\n",
    "database = \"UserManagement\"\n",
    "username = \"sa\"\n",
    "password = \"P@ssw0rd\"\n",
    "\n",
    "# Definición de string de conexión\n",
    "connection_string = f\"DRIVER={{SQL Server}};SERVER={server};DATABASE={database};UID={username};PWD={password}\"\n",
    "\n",
    "# Conexión a la base de datos\n",
    "connection = pyodbc.connect(connection_string)\n",
    "\n",
    "# Apertura de conexión con SQL\n",
    "cursor = connection.cursor()"
   ]
  },
  {
   "cell_type": "code",
   "execution_count": 41,
   "id": "16556eb3-bf34-4cc1-aa91-d7af3367e1c9",
   "metadata": {},
   "outputs": [
    {
     "name": "stdout",
     "output_type": "stream",
     "text": [
      "SELECT Password FROM Users WHERE Username = 'Ana'\n",
      "('1234',)\n",
      "Password original:  1234\n",
      "Password codificada:  MTIzNA==\n"
     ]
    }
   ],
   "source": [
    "import base64\n",
    "\n",
    "# Sentencia SQL \n",
    "user = 'Ana'\n",
    "query = f\"SELECT Password FROM Users WHERE Username = '{user}'\"\n",
    "print(query)\n",
    "cursor.execute(query)\n",
    "\n",
    "# Guardamos un único resultado porque solo hay 1 contraseña, y la codificamos para compararla con la obtenida\n",
    "result = cursor.fetchone()\n",
    "print(result)\n",
    "\n",
    "if not result:\n",
    "    print(\"Error: el usuario no existe\")\n",
    "else:\n",
    "    pwd = result[0]\n",
    "    print(\"Password original: \", pwd)\n",
    "    \n",
    "    pwd_codificada = base64.b64encode(pwd.encode(\"utf-8\")).decode(\"utf-8\")\n",
    "    print(\"Password codificada: \", pwd_codificada)"
   ]
  },
  {
   "cell_type": "markdown",
   "id": "c1bd028f-33cb-476c-923d-3b8736752559",
   "metadata": {},
   "source": [
    "## Cerrar conexión con SQL"
   ]
  },
  {
   "cell_type": "code",
   "execution_count": null,
   "id": "28d28dbc-1dc8-49ab-8753-9db0025a80a4",
   "metadata": {},
   "outputs": [],
   "source": [
    "# \n",
    "cursor.close()\n",
    "connection.close()"
   ]
  },
  {
   "cell_type": "code",
   "execution_count": 19,
   "id": "a1249a3f-30f3-4542-bb79-518892de7298",
   "metadata": {},
   "outputs": [
    {
     "name": "stdout",
     "output_type": "stream",
     "text": [
      "Texto original: Hola, esto es una cadena de texto a codificar en Base64.\n",
      "Texto codificado en Base64: SG9sYSwgZXN0byBlcyB1bmEgY2FkZW5hIGRlIHRleHRvIGEgY29kaWZpY2FyIGVuIEJhc2U2NC4=\n",
      "Texto decodificado: b'Hola, esto es una cadena de texto a codificar en Base64.'\n"
     ]
    }
   ],
   "source": [
    "import base64\n",
    "\n",
    "texto_original = \"Hola, esto es una cadena de texto a codificar en Base64.\"\n",
    "\n",
    "texto_codificado = base64.b64encode(texto_original.encode(\"utf-8\")).decode(\"utf-8\")\n",
    "\n",
    "print(\"Texto original:\", texto_original)\n",
    "print(\"Texto codificado en Base64:\", texto_codificado)\n",
    "\n",
    "texto_decodificado = base64.b64decode(texto_codificado)\n",
    "\n",
    "print(\"Texto decodificado:\", texto_decodificado)"
   ]
  }
 ],
 "metadata": {
  "kernelspec": {
   "display_name": "Python 3 (ipykernel)",
   "language": "python",
   "name": "python3"
  },
  "language_info": {
   "codemirror_mode": {
    "name": "ipython",
    "version": 3
   },
   "file_extension": ".py",
   "mimetype": "text/x-python",
   "name": "python",
   "nbconvert_exporter": "python",
   "pygments_lexer": "ipython3",
   "version": "3.9.0"
  }
 },
 "nbformat": 4,
 "nbformat_minor": 5
}
